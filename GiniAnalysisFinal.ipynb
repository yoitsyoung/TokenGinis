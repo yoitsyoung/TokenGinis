{
 "cells": [
  {
   "cell_type": "code",
   "execution_count": 20,
   "id": "seventh-aviation",
   "metadata": {},
   "outputs": [],
   "source": [
    "#When calculating undelrying UNI held by depositing in each pool, I figured that a good heuristic would \n",
    "#simply be to take the total outstanding derivative tokens divided by UNI locked in each pool. This\n",
    "#data pipeline can thus be automated for every token. However, the current limitation is that the \n",
    "#pool lists must be found by hand. So I could only select from the largest contract pools\n",
    "\n",
    "#One also needs to take into account the sort of liquidity mining programs like big data protocol. Unfortunately,\n",
    "# these new protocols often don't issue a synthethic version of the token when depositors stake UNI in their vaults, \n",
    "# so underlying UNI ownership is \n",
    "# difficult to track\n",
    "\n",
    "#In this case, I simply removed BDP from the calculations with a remove() function\n",
    "\n",
    "#For a more in-depth analysis, I propose that Nansen can be used to track depositors in a particular contract, at a monthly subscription cost to 1kx\n",
    "\n",
    "UNI_pool_contract_list = {'cUNI': '0x35a18000230da775cac24873d00ff85bccded550',\n",
    "                         'UNI-WETH': '0xd3d2e2692501a5c9ca623199d38826e513033a17',\n",
    "                          'UNI_BDP': '0x0De845955E2bF089012F682fE9bC81dD5f11B372'\n",
    "                         }\n",
    "#For Sushi, will remove the MasterChef Contract ownership as well, since those are tokens that are \n",
    "#distributed VIA A GOVERNANCE PROCESS. This means it should not have a net effect on token inequality, theoretically.\n",
    "#Same principle applies to Balancer DAO contract, whose funds will be removed from calculations\n",
    "\n",
    "SUSHI_pool_contract_list = {'xSUSHI':'0x8798249c2E607446EfB7Ad49eC89dD1865Ff4272',\n",
    "                            'SUSHI-ETH':'0x795065dCc9f64b5614C407a6EFDC400DA6221FB0',\n",
    "                            'crSUSHI': '0x338286C0BC081891A4Bda39C7667ae150bf5D206',\n",
    "                            'MasterChef': '0xc2EdaD668740f1aA35E4D8f227fB8E17dcA888Cd',\n",
    "                            'SUSHI_BDP': '0x0De845955E2bF089012F682fE9bC81dD5f11B372'\n",
    "    \n",
    "}\n",
    "\n",
    "BAL_pool_contract_list = {'BAL-ETH':'0x59A19D8c652FA0284f44113D0ff9aBa70bd46fB4',\n",
    "                          'BAL-WBTC':'0xbA20d4F41121b997a1EAcA6d938Ac40b67DAD226',\n",
    "                          'crBAL': '0xcE4Fe9b4b8Ff61949DCfeB7e03bc9FAca59D2Eb3',\n",
    "                          'BALDAO' : '0xb618F903ad1d00d6F7b92f5b0954DcdC056fC533'\n",
    "}\n",
    "\n"
   ]
  },
  {
   "cell_type": "code",
   "execution_count": 21,
   "id": "attractive-absolute",
   "metadata": {},
   "outputs": [],
   "source": [
    "import pandas as pd\n",
    "import numpy as np\n",
    "import matplotlib.pyplot as plt"
   ]
  },
  {
   "cell_type": "code",
   "execution_count": 22,
   "id": "distinct-little",
   "metadata": {},
   "outputs": [],
   "source": [
    "\n",
    "def merge_farm_balances(pd1,pd2,contract_name, contract_list):\n",
    "    #Add UNI ownership for UNI_WETH LP providers\n",
    "\n",
    "    #Get total UNI/SUSHI/BAL amount in pool \n",
    "    net_tokens = pd1[pd1['HolderAddress'] == contract_list[contract_name].lower()].iloc[0]['Balance']\n",
    "    print('Total tokens in pool', net_tokens)\n",
    "    #Get total LP/farm shares \n",
    "    total_shares = pd2[\"Balance\"].sum()\n",
    "    print('Total LP shares', total_shares)\n",
    "    #Calculate share of each LP/farm in pool, and thus how much UNI/SUSHI/BAL they own\n",
    "    pd2[\"Balance_y\"] = (pd2[\"Balance\"]/total_shares)*net_tokens\n",
    "    #Merge in \n",
    "    pd3 = pd.merge(pd2.drop(['Balance'],axis = 1),pd1,how=\"outer\", on = \"HolderAddress\")\n",
    "    #Data Cleanup\n",
    "    pd3 = pd3.fillna(0)\n",
    "    pd3[\"Balance\"] = pd3[\"Balance\"] + pd3[\"Balance_y\"]\n",
    "    return pd3.drop([\"Balance_y\"], axis = 1)\n",
    "    \n",
    "def remove_balances(pd, contract_name, contract_list):\n",
    "    index = pd[pd['HolderAddress'] == contract_list[contract_name]].index\n",
    "    pd_dropped = pd.drop(index)\n",
    "    return pd_dropped\n",
    "    \n",
    "    "
   ]
  },
  {
   "cell_type": "code",
   "execution_count": 23,
   "id": "stretch-terminology",
   "metadata": {},
   "outputs": [],
   "source": [
    "#HELPER FUNCTIONS\n",
    "def gini_cal(v):\n",
    "    bins = np.linspace(0., 100., 11)\n",
    "    total = float(np.sum(v))\n",
    "    yvals = []\n",
    "    for b in bins[0:]:\n",
    "        bin_vals = v[v <= np.percentile(v, b)]\n",
    "        bin_fraction = (np.sum(bin_vals) / total) * 100.0\n",
    "        yvals.append(bin_fraction)\n",
    "    # perfect equality area\n",
    "    pe_area = np.trapz(bins, x=bins)\n",
    "    # lorenz area\n",
    "    lorenz_area = np.trapz(yvals, x=bins)\n",
    "    gini_val = (pe_area - lorenz_area) / float(pe_area)\n",
    "    return bins, yvals, gini_val\n",
    "\n",
    "def plot(data):\n",
    "    bins, result, gini_val = gini_cal(data)\n",
    "    plt.figure()\n",
    "    plt.subplot(2, 1, 1)\n",
    "    plt.plot(bins, result, label=\"observed\")\n",
    "    plt.plot(bins, bins, '--', label=\"perfect eq.\")\n",
    "    plt.xlabel(\"fraction of population\")\n",
    "    plt.ylabel(\"fraction of wealth\")\n",
    "    plt.title(\"GINI: %.4f\" %(gini_val))\n",
    "    plt.legend()\n",
    "    plt.subplot(2, 1, 2)\n",
    "    plt.hist(data, bins=20)"
   ]
  },
  {
   "cell_type": "code",
   "execution_count": 24,
   "id": "painted-scheduling",
   "metadata": {},
   "outputs": [
    {
     "name": "stdout",
     "output_type": "stream",
     "text": [
      "Total tokens in pool 2674052.7062676\n",
      "Total LP shares 180495.76127164648\n",
      "Total tokens in pool 5773382.76152564\n",
      "Total LP shares 480324380.7043636\n"
     ]
    }
   ],
   "source": [
    "pd_UNI = pd.read_csv(\"./UNIholders.csv\")\n",
    "pd_LP_UNI_WETH = pd.read_csv(\"./LP_UNI_WETHholders.csv\")\n",
    "pd_cUNI = pd.read_csv(\"./cUNIholders.csv\")\n",
    "pd_UNI_1 = merge_farm_balances(pd_UNI,pd_LP_UNI_WETH,'UNI-WETH', UNI_pool_contract_list)\n",
    "pd_UNI_2 = merge_farm_balances(pd_UNI_1,pd_cUNI,'cUNI', UNI_pool_contract_list)\n",
    "pd_UNI_final = remove_balances(pd_UNI_2, 'UNI_BDP', UNI_pool_contract_list)"
   ]
  },
  {
   "cell_type": "code",
   "execution_count": 25,
   "id": "smart-accent",
   "metadata": {},
   "outputs": [
    {
     "name": "stdout",
     "output_type": "stream",
     "text": [
      "Total tokens in pool 7935235.54690952\n",
      "Total LP shares 702297.8198717133\n",
      "Total tokens in pool 45760427.5918761\n",
      "Total LP shares 40617223.87224835\n",
      "Total tokens in pool 683358.24479513\n",
      "Total LP shares 42561370.93507231\n"
     ]
    }
   ],
   "source": [
    "pd_SUSHI = pd.read_csv(\"./SUSHIholders.csv\")\n",
    "pd_LP_SUSHI_ETH = pd.read_csv(\"./LP_SUSHI_ETHholders.csv\")\n",
    "pd_xSUSHI = pd.read_csv('./xSUSHIholders.csv')\n",
    "pd_crSUSHI = pd.read_csv('./crSUSHIholders.csv')\n",
    "\n",
    "pd_SUSHI_1 = merge_farm_balances(pd_SUSHI,pd_LP_SUSHI_ETH,'SUSHI-ETH', SUSHI_pool_contract_list)\n",
    "pd_SUSHI_2 = merge_farm_balances(pd_SUSHI_1,pd_xSUSHI,'xSUSHI', SUSHI_pool_contract_list)\n",
    "pd_SUSHI_3 = merge_farm_balances(pd_SUSHI_2,pd_crSUSHI,'crSUSHI', SUSHI_pool_contract_list)\n",
    "pd_SUSHI_4 = remove_balances(pd_SUSHI_3, 'SUSHI_BDP', SUSHI_pool_contract_list)\n",
    "pd_SUSHI_final = remove_balances(pd_SUSHI_4, 'MasterChef', SUSHI_pool_contract_list)"
   ]
  },
  {
   "cell_type": "code",
   "execution_count": 26,
   "id": "entertaining-europe",
   "metadata": {},
   "outputs": [
    {
     "name": "stdout",
     "output_type": "stream",
     "text": [
      "Total tokens in pool 3684770.96185693\n",
      "Total LP shares 176887.61890924408\n",
      "Total tokens in pool 68336.1274239536\n",
      "Total LP shares 2990.661866459808\n",
      "Total tokens in pool 38730.6617583722\n",
      "Total LP shares 3445376.041134691\n"
     ]
    }
   ],
   "source": [
    "pd_BAL = pd.read_csv(\"./BALholders.csv\")\n",
    "pd_LP_BAL_ETH = pd.read_csv(\"./LP_BAL_ETHholders.csv\")\n",
    "pd_LP_BAL_WBTC = pd.read_csv('./LP_BAL_WBTCholders.csv')\n",
    "pd_crBAL = pd.read_csv('./crBALholders.csv')\n",
    "\n",
    "pd_BAL_1 = merge_farm_balances(pd_BAL,pd_LP_BAL_ETH,'BAL-ETH', BAL_pool_contract_list)\n",
    "pd_BAL_2 = merge_farm_balances(pd_BAL_1,pd_LP_BAL_WBTC,'BAL-WBTC', BAL_pool_contract_list)\n",
    "pd_BAL_3 = merge_farm_balances(pd_BAL_2,pd_crBAL,'crBAL', BAL_pool_contract_list)\n",
    "pd_BAL_final = remove_balances(pd_BAL_3, 'BALDAO', BAL_pool_contract_list)"
   ]
  },
  {
   "cell_type": "code",
   "execution_count": 6,
   "id": "domestic-forest",
   "metadata": {},
   "outputs": [
    {
     "data": {
      "image/png": "[encoded data removed]",
      "text/plain": [
       "<Figure size 432x288 with 2 Axes>"
      ]
     },
     "metadata": {
      "needs_background": "light"
     },
     "output_type": "display_data"
    }
   ],
   "source": [
    "plot(pd_UNI_final[\"Balance\"])"
   ]
  },
  {
   "cell_type": "code",
   "execution_count": 27,
   "id": "opened-irrigation",
   "metadata": {},
   "outputs": [
    {
     "data": {
      "image/png": "[encoded data removed]",
      "text/plain": [
       "<Figure size 432x288 with 2 Axes>"
      ]
     },
     "metadata": {
      "needs_background": "light"
     },
     "output_type": "display_data"
    }
   ],
   "source": [
    "plot(pd_SUSHI_final[\"Balance\"])"
   ]
  },
  {
   "cell_type": "code",
   "execution_count": 28,
   "id": "raising-stevens",
   "metadata": {},
   "outputs": [
    {
     "data": {
      "image/png": "[encoded data removed]",
      "text/plain": [
       "<Figure size 432x288 with 2 Axes>"
      ]
     },
     "metadata": {
      "needs_background": "light"
     },
     "output_type": "display_data"
    }
   ],
   "source": [
    "plot(pd_BAL_final[\"Balance\"])"
   ]
  },
  {
   "cell_type": "code",
   "execution_count": null,
   "id": "dangerous-allocation",
   "metadata": {},
   "outputs": [],
   "source": []
  }
 ],
 "metadata": {
  "kernelspec": {
   "display_name": "Python 3",
   "language": "python",
   "name": "python3"
  },
  "language_info": {
   "codemirror_mode": {
    "name": "ipython",
    "version": 3
   },
   "file_extension": ".py",
   "mimetype": "text/x-python",
   "name": "python",
   "nbconvert_exporter": "python",
   "pygments_lexer": "ipython3",
   "version": "3.8.2"
  }
 },
 "nbformat": 4,
 "nbformat_minor": 5
}
